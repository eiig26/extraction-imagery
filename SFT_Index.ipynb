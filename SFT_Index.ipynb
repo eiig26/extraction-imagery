{
 "cells": [
  {
   "cell_type": "code",
   "execution_count": 28,
   "metadata": {},
   "outputs": [],
   "source": [
    "import arcpy\n",
    "from arcpy.sa import *\n"
   ]
  },
  {
   "cell_type": "code",
   "execution_count": 29,
   "metadata": {},
   "outputs": [],
   "source": [
    "arcpy.CheckOutExtension(\"Spatial\")\n",
    "work_gdb = \"C:/Users/eiig2/OneDrive - University of Massachusetts/Documents/ArcGIS/Projects/FinalProjectData_MachineLearning/FinalProjectData_MachineLearning.gdb\"\n",
    "band4 = \n",
    "\n",
    "bandas = (band1, band2) #Listas\n",
    "\n",
    "for band(bandas): # Ciclos for \n",
    "    extract by mask\n",
    "\n",
    "\n",
    "\n",
    "#image_date = \"_20240610_\" #Jun\n",
    "#image_date = \"_20240709_\" #Jul\n",
    "image_date = \"_20240801_\" #Aug\n",
    "thermal_band_T = Raster(work_gdb + \"/\" + \"B10\" + image_date + \"TAZ\")\n",
    "band4c = Raster(work_gdb + \"/\" + \"B4\" + image_date + \"TAZ\")\n",
    "band5 = Raster(work_gdb + \"/\" + \"B5\" + image_date + \"TAZ\")\n",
    "band6 = Raster(work_gdb + \"/\" + \"B6\" + image_date + \"TAZ\")\n",
    "band7 = Raster(work_gdb + \"/\" + \"B7\" + image_date + \"TAZ\")\n",
    "band3 = Raster(work_gdb + \"/\" + \"B3\" + image_date + \"TAZ\")\n",
    "band2 = Raster(work_gdb + \"/\" + \"B2\" + image_date + \"TAZ\")\n",
    "band1 = Raster(work_gdb + \"/\" + \"B1\" + image_date + \"TAZ\")\n",
    "radiance_mult_band10 = 0.00034  \n",
    "radiance_add_band10 = 0.1         \n",
    "k1_constant = 774.8853              \n",
    "k2_constant = 1321.0789             \n"
   ]
  },
  {
   "cell_type": "code",
   "execution_count": 30,
   "metadata": {},
   "outputs": [],
   "source": [
    "toa_radiance = thermal_band_T * radiance_mult_band10 + radiance_add_band10\n",
    "brightness_temp_kelvin = k2_constant / (arcpy.sa.Ln((k1_constant / toa_radiance) + 1))\n",
    "ndvi = (band4 - band5)/(band5 + band4)"
   ]
  },
  {
   "cell_type": "code",
   "execution_count": 31,
   "metadata": {},
   "outputs": [],
   "source": [
    "ndvi_min = -0.560355\n",
    "ndvi_max = 0.266096\n",
    "\n",
    "prop_veg = Square((ndvi - ndvi_min)/(ndvi_max - ndvi_min))\n",
    "\n",
    "emissivity = 0.004 * prop_veg + 0.986\n",
    "\n",
    "SFT_kelvin = brightness_temp_kelvin / (1 + (0.00115 * brightness_temp_kelvin / 1.4388) * Ln(emissivity))\n",
    "\n",
    "SFT_F = (SFT_kelvin - 273.15) * 9 / 5 + 32\n",
    "\n"
   ]
  },
  {
   "cell_type": "code",
   "execution_count": 27,
   "metadata": {},
   "outputs": [],
   "source": [
    "# Index LSWI\n",
    "# Formula: (NIR - SWIR) / (NIR + SWIR)\n",
    "lswi = (band5 - band6) / (band5 + band6)\n",
    "\n"
   ]
  },
  {
   "cell_type": "code",
   "execution_count": 15,
   "metadata": {},
   "outputs": [],
   "source": []
  },
  {
   "cell_type": "code",
   "execution_count": 13,
   "metadata": {},
   "outputs": [],
   "source": []
  },
  {
   "cell_type": "code",
   "execution_count": null,
   "metadata": {},
   "outputs": [],
   "source": []
  }
 ],
 "metadata": {
  "kernelspec": {
   "display_name": "ArcGISPro",
   "language": "Python",
   "name": "python3"
  },
  "language_info": {
   "file_extension": ".py",
   "name": "python",
   "version": "3"
  }
 },
 "nbformat": 4,
 "nbformat_minor": 2
}
